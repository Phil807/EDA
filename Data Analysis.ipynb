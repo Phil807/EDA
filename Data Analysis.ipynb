{
 "cells": [
  {
   "cell_type": "code",
   "execution_count": 279,
   "metadata": {},
   "outputs": [],
   "source": [
    "import numpy as np\n",
    "import pandas as pd\n",
    "import seaborn as sns\n",
    "import matplotlib.pyplot as plt\n",
    "%matplotlib inline\n",
    "\n",
    "import datetime as dt\n",
    "from dateutil.relativedelta import relativedelta\n",
    "from datetime import date"
   ]
  },
  {
   "cell_type": "code",
   "execution_count": 2,
   "metadata": {},
   "outputs": [],
   "source": [
    "df_cost = pd.read_excel('Quantitative_Task.xlsx', sheet_name='Cost', index_col='Month')\n",
    "df_value = pd.read_excel('Quantitative_Task.xlsx', sheet_name='Value Info')\n",
    "df_demo = pd.read_excel('Quantitative_Task.xlsx', sheet_name='Demographic Info')"
   ]
  },
  {
   "cell_type": "code",
   "execution_count": 3,
   "metadata": {},
   "outputs": [
    {
     "data": {
      "text/html": [
       "<div>\n",
       "<style scoped>\n",
       "    .dataframe tbody tr th:only-of-type {\n",
       "        vertical-align: middle;\n",
       "    }\n",
       "\n",
       "    .dataframe tbody tr th {\n",
       "        vertical-align: top;\n",
       "    }\n",
       "\n",
       "    .dataframe thead th {\n",
       "        text-align: right;\n",
       "    }\n",
       "</style>\n",
       "<table border=\"1\" class=\"dataframe\">\n",
       "  <thead>\n",
       "    <tr style=\"text-align: right;\">\n",
       "      <th></th>\n",
       "      <th>Paid Search</th>\n",
       "      <th>Affiliates</th>\n",
       "    </tr>\n",
       "    <tr>\n",
       "      <th>Month</th>\n",
       "      <th></th>\n",
       "      <th></th>\n",
       "    </tr>\n",
       "  </thead>\n",
       "  <tbody>\n",
       "    <tr>\n",
       "      <th>2013-01-01</th>\n",
       "      <td>41512.00</td>\n",
       "      <td>16421</td>\n",
       "    </tr>\n",
       "    <tr>\n",
       "      <th>2013-02-01</th>\n",
       "      <td>61243.00</td>\n",
       "      <td>42101</td>\n",
       "    </tr>\n",
       "    <tr>\n",
       "      <th>2013-03-01</th>\n",
       "      <td>84597.88</td>\n",
       "      <td>141321</td>\n",
       "    </tr>\n",
       "  </tbody>\n",
       "</table>\n",
       "</div>"
      ],
      "text/plain": [
       "            Paid Search  Affiliates\n",
       "Month                              \n",
       "2013-01-01     41512.00       16421\n",
       "2013-02-01     61243.00       42101\n",
       "2013-03-01     84597.88      141321"
      ]
     },
     "execution_count": 3,
     "metadata": {},
     "output_type": "execute_result"
    }
   ],
   "source": [
    "#checking the data import went ok\n",
    "df_cost.head()"
   ]
  },
  {
   "cell_type": "code",
   "execution_count": 5,
   "metadata": {},
   "outputs": [
    {
     "data": {
      "text/html": [
       "<div>\n",
       "<style scoped>\n",
       "    .dataframe tbody tr th:only-of-type {\n",
       "        vertical-align: middle;\n",
       "    }\n",
       "\n",
       "    .dataframe tbody tr th {\n",
       "        vertical-align: top;\n",
       "    }\n",
       "\n",
       "    .dataframe thead th {\n",
       "        text-align: right;\n",
       "    }\n",
       "</style>\n",
       "<table border=\"1\" class=\"dataframe\">\n",
       "  <thead>\n",
       "    <tr style=\"text-align: right;\">\n",
       "      <th></th>\n",
       "      <th>1st Order Profit</th>\n",
       "      <th>Subsequent Order Profit</th>\n",
       "      <th>Subsequent Orders Count</th>\n",
       "      <th>Total value of all promotions</th>\n",
       "      <th>Title</th>\n",
       "      <th>Date Of Birth</th>\n",
       "      <th>Address City</th>\n",
       "      <th>Contact Allowed</th>\n",
       "      <th>Registration Date</th>\n",
       "      <th>Source of Customer</th>\n",
       "    </tr>\n",
       "    <tr>\n",
       "      <th>Customer ID</th>\n",
       "      <th></th>\n",
       "      <th></th>\n",
       "      <th></th>\n",
       "      <th></th>\n",
       "      <th></th>\n",
       "      <th></th>\n",
       "      <th></th>\n",
       "      <th></th>\n",
       "      <th></th>\n",
       "      <th></th>\n",
       "    </tr>\n",
       "  </thead>\n",
       "  <tbody>\n",
       "    <tr>\n",
       "      <th>1</th>\n",
       "      <td>8.97261</td>\n",
       "      <td>5.30772</td>\n",
       "      <td>1</td>\n",
       "      <td>6.600000</td>\n",
       "      <td>Mr</td>\n",
       "      <td>1973-06-29</td>\n",
       "      <td>Malahide</td>\n",
       "      <td>Y</td>\n",
       "      <td>2013-01-01 00:23:00</td>\n",
       "      <td>Organic Search</td>\n",
       "    </tr>\n",
       "    <tr>\n",
       "      <th>2</th>\n",
       "      <td>7.92288</td>\n",
       "      <td>70.15680</td>\n",
       "      <td>7</td>\n",
       "      <td>6.639453</td>\n",
       "      <td>Mr</td>\n",
       "      <td>1984-07-25</td>\n",
       "      <td>Dublin</td>\n",
       "      <td>Y</td>\n",
       "      <td>2013-01-01 00:30:00</td>\n",
       "      <td>Affiliates</td>\n",
       "    </tr>\n",
       "    <tr>\n",
       "      <th>3</th>\n",
       "      <td>14.06160</td>\n",
       "      <td>50.80320</td>\n",
       "      <td>7</td>\n",
       "      <td>0.000000</td>\n",
       "      <td>Mr</td>\n",
       "      <td>1991-05-01</td>\n",
       "      <td>Dublin</td>\n",
       "      <td>Y</td>\n",
       "      <td>2013-01-01 01:09:00</td>\n",
       "      <td>Paid Social</td>\n",
       "    </tr>\n",
       "    <tr>\n",
       "      <th>4</th>\n",
       "      <td>14.07672</td>\n",
       "      <td>0.00000</td>\n",
       "      <td>0</td>\n",
       "      <td>0.000000</td>\n",
       "      <td>Mr</td>\n",
       "      <td>1986-11-30</td>\n",
       "      <td>Dublin</td>\n",
       "      <td>N</td>\n",
       "      <td>2013-01-01 01:19:00</td>\n",
       "      <td>Affiliates</td>\n",
       "    </tr>\n",
       "    <tr>\n",
       "      <th>5</th>\n",
       "      <td>22.68000</td>\n",
       "      <td>68.22144</td>\n",
       "      <td>9</td>\n",
       "      <td>14.771948</td>\n",
       "      <td>Mr</td>\n",
       "      <td>1991-10-02</td>\n",
       "      <td>Limerick</td>\n",
       "      <td>Y</td>\n",
       "      <td>2013-01-01 01:58:00</td>\n",
       "      <td>Paid Search</td>\n",
       "    </tr>\n",
       "  </tbody>\n",
       "</table>\n",
       "</div>"
      ],
      "text/plain": [
       "             1st Order Profit  Subsequent Order Profit  \\\n",
       "Customer ID                                              \n",
       "1                     8.97261                  5.30772   \n",
       "2                     7.92288                 70.15680   \n",
       "3                    14.06160                 50.80320   \n",
       "4                    14.07672                  0.00000   \n",
       "5                    22.68000                 68.22144   \n",
       "\n",
       "             Subsequent Orders Count  Total value of all promotions Title  \\\n",
       "Customer ID                                                                 \n",
       "1                                  1                       6.600000    Mr   \n",
       "2                                  7                       6.639453    Mr   \n",
       "3                                  7                       0.000000    Mr   \n",
       "4                                  0                       0.000000    Mr   \n",
       "5                                  9                      14.771948    Mr   \n",
       "\n",
       "            Date Of Birth Address City Contact Allowed   Registration Date  \\\n",
       "Customer ID                                                                  \n",
       "1              1973-06-29     Malahide               Y 2013-01-01 00:23:00   \n",
       "2              1984-07-25       Dublin               Y 2013-01-01 00:30:00   \n",
       "3              1991-05-01       Dublin               Y 2013-01-01 01:09:00   \n",
       "4              1986-11-30       Dublin               N 2013-01-01 01:19:00   \n",
       "5              1991-10-02     Limerick               Y 2013-01-01 01:58:00   \n",
       "\n",
       "            Source of Customer  \n",
       "Customer ID                     \n",
       "1               Organic Search  \n",
       "2                   Affiliates  \n",
       "3                  Paid Social  \n",
       "4                   Affiliates  \n",
       "5                  Paid Search  "
      ]
     },
     "execution_count": 5,
     "metadata": {},
     "output_type": "execute_result"
    }
   ],
   "source": [
    "#inner join df_value and df_demo on customer_id\n",
    "#this table contains all the customers that we have both value and demographic information for\n",
    "\n",
    "df_table = pd.merge(df_value, df_demo, how='inner', on='Customer ID')\n",
    "df_table.set_index('Customer ID', inplace=True)\n",
    "df_table.head()"
   ]
  },
  {
   "cell_type": "code",
   "execution_count": 6,
   "metadata": {},
   "outputs": [
    {
     "data": {
      "text/html": [
       "<div>\n",
       "<style scoped>\n",
       "    .dataframe tbody tr th:only-of-type {\n",
       "        vertical-align: middle;\n",
       "    }\n",
       "\n",
       "    .dataframe tbody tr th {\n",
       "        vertical-align: top;\n",
       "    }\n",
       "\n",
       "    .dataframe thead th {\n",
       "        text-align: right;\n",
       "    }\n",
       "</style>\n",
       "<table border=\"1\" class=\"dataframe\">\n",
       "  <thead>\n",
       "    <tr style=\"text-align: right;\">\n",
       "      <th></th>\n",
       "      <th>1st Order Profit</th>\n",
       "      <th>Subsequent Order Profit</th>\n",
       "      <th>Subsequent Orders Count</th>\n",
       "      <th>Total value of all promotions</th>\n",
       "    </tr>\n",
       "  </thead>\n",
       "  <tbody>\n",
       "    <tr>\n",
       "      <th>count</th>\n",
       "      <td>30591.000000</td>\n",
       "      <td>30591.000000</td>\n",
       "      <td>30591.000000</td>\n",
       "      <td>30591.000000</td>\n",
       "    </tr>\n",
       "    <tr>\n",
       "      <th>mean</th>\n",
       "      <td>10.681855</td>\n",
       "      <td>37.439037</td>\n",
       "      <td>4.054101</td>\n",
       "      <td>6.479484</td>\n",
       "    </tr>\n",
       "    <tr>\n",
       "      <th>std</th>\n",
       "      <td>7.061710</td>\n",
       "      <td>47.474815</td>\n",
       "      <td>4.363664</td>\n",
       "      <td>10.940545</td>\n",
       "    </tr>\n",
       "    <tr>\n",
       "      <th>min</th>\n",
       "      <td>0.882000</td>\n",
       "      <td>0.000000</td>\n",
       "      <td>0.000000</td>\n",
       "      <td>-0.049922</td>\n",
       "    </tr>\n",
       "    <tr>\n",
       "      <th>25%</th>\n",
       "      <td>5.127000</td>\n",
       "      <td>0.000000</td>\n",
       "      <td>0.000000</td>\n",
       "      <td>0.000000</td>\n",
       "    </tr>\n",
       "    <tr>\n",
       "      <th>50%</th>\n",
       "      <td>9.576000</td>\n",
       "      <td>21.384000</td>\n",
       "      <td>3.000000</td>\n",
       "      <td>1.885195</td>\n",
       "    </tr>\n",
       "    <tr>\n",
       "      <th>75%</th>\n",
       "      <td>14.827500</td>\n",
       "      <td>57.102560</td>\n",
       "      <td>7.000000</td>\n",
       "      <td>8.118325</td>\n",
       "    </tr>\n",
       "    <tr>\n",
       "      <th>max</th>\n",
       "      <td>57.974400</td>\n",
       "      <td>412.663680</td>\n",
       "      <td>32.000000</td>\n",
       "      <td>145.264732</td>\n",
       "    </tr>\n",
       "  </tbody>\n",
       "</table>\n",
       "</div>"
      ],
      "text/plain": [
       "       1st Order Profit  Subsequent Order Profit  Subsequent Orders Count  \\\n",
       "count      30591.000000             30591.000000             30591.000000   \n",
       "mean          10.681855                37.439037                 4.054101   \n",
       "std            7.061710                47.474815                 4.363664   \n",
       "min            0.882000                 0.000000                 0.000000   \n",
       "25%            5.127000                 0.000000                 0.000000   \n",
       "50%            9.576000                21.384000                 3.000000   \n",
       "75%           14.827500                57.102560                 7.000000   \n",
       "max           57.974400               412.663680                32.000000   \n",
       "\n",
       "       Total value of all promotions  \n",
       "count                   30591.000000  \n",
       "mean                        6.479484  \n",
       "std                        10.940545  \n",
       "min                        -0.049922  \n",
       "25%                         0.000000  \n",
       "50%                         1.885195  \n",
       "75%                         8.118325  \n",
       "max                       145.264732  "
      ]
     },
     "execution_count": 6,
     "metadata": {},
     "output_type": "execute_result"
    }
   ],
   "source": [
    "df_table.describe()"
   ]
  },
  {
   "cell_type": "code",
   "execution_count": 7,
   "metadata": {},
   "outputs": [
    {
     "data": {
      "text/plain": [
       "1st Order Profit                    0\n",
       "Subsequent Order Profit             0\n",
       "Subsequent Orders Count             0\n",
       "Total value of all promotions       0\n",
       "Title                            3975\n",
       "Date Of Birth                       0\n",
       "Address City                        0\n",
       "Contact Allowed                     0\n",
       "Registration Date                   0\n",
       "Source of Customer                  0\n",
       "dtype: int64"
      ]
     },
     "execution_count": 7,
     "metadata": {},
     "output_type": "execute_result"
    }
   ],
   "source": [
    "df_table.isnull().sum()"
   ]
  },
  {
   "cell_type": "markdown",
   "metadata": {},
   "source": [
    "<b>Let Start Analyzing the data</b>"
   ]
  },
  {
   "cell_type": "markdown",
   "metadata": {},
   "source": [
    "<b>First, lets check the Source of the Customer</b>\n",
    "\n",
    "Customers directly typing in the url is the most common way for a customer to access the TM Lewin webpage \n",
    "\n",
    "Organic search, another free method, is the next most effective\n",
    "\n",
    "The 3 paid options are the least effective\n"
   ]
  },
  {
   "cell_type": "code",
   "execution_count": 8,
   "metadata": {},
   "outputs": [
    {
     "data": {
      "text/plain": [
       "Source of Customer\n",
       "Direct            10941\n",
       "Organic Search     8164\n",
       "Paid Search        6354\n",
       "Affiliates         3756\n",
       "Paid Social        1376\n",
       "Name: Source of Customer, dtype: int64"
      ]
     },
     "execution_count": 8,
     "metadata": {},
     "output_type": "execute_result"
    }
   ],
   "source": [
    "df_table.groupby('Source of Customer')['Source of Customer'].count().sort_values(ascending=False)"
   ]
  },
  {
   "cell_type": "markdown",
   "metadata": {},
   "source": [
    "Direct is not only most effective for getting customer to the webpage but it also provides the most profitable group of customers.\n",
    "\n",
    "This makes sense as regular visitors to a website will likely type in the webpage directly and are also more likely\n",
    "to be fans of that brand\n",
    "\n",
    "The paid sources of customer lead to the least profitable group of customers"
   ]
  },
  {
   "cell_type": "code",
   "execution_count": 9,
   "metadata": {},
   "outputs": [
    {
     "data": {
      "text/html": [
       "<div>\n",
       "<style scoped>\n",
       "    .dataframe tbody tr th:only-of-type {\n",
       "        vertical-align: middle;\n",
       "    }\n",
       "\n",
       "    .dataframe tbody tr th {\n",
       "        vertical-align: top;\n",
       "    }\n",
       "\n",
       "    .dataframe thead th {\n",
       "        text-align: right;\n",
       "    }\n",
       "</style>\n",
       "<table border=\"1\" class=\"dataframe\">\n",
       "  <thead>\n",
       "    <tr style=\"text-align: right;\">\n",
       "      <th></th>\n",
       "      <th>1st Order Profit</th>\n",
       "      <th>Subsequent Order Profit</th>\n",
       "      <th>Total Profit</th>\n",
       "    </tr>\n",
       "    <tr>\n",
       "      <th>Source of Customer</th>\n",
       "      <th></th>\n",
       "      <th></th>\n",
       "      <th></th>\n",
       "    </tr>\n",
       "  </thead>\n",
       "  <tbody>\n",
       "    <tr>\n",
       "      <th>Direct</th>\n",
       "      <td>118088.71520</td>\n",
       "      <td>416537.284480</td>\n",
       "      <td>534625.999680</td>\n",
       "    </tr>\n",
       "    <tr>\n",
       "      <th>Organic Search</th>\n",
       "      <td>90508.08441</td>\n",
       "      <td>316989.975240</td>\n",
       "      <td>407498.059650</td>\n",
       "    </tr>\n",
       "    <tr>\n",
       "      <th>Paid Search</th>\n",
       "      <td>69376.28180</td>\n",
       "      <td>236564.673760</td>\n",
       "      <td>305940.955560</td>\n",
       "    </tr>\n",
       "    <tr>\n",
       "      <th>Affiliates</th>\n",
       "      <td>29766.67596</td>\n",
       "      <td>108543.676304</td>\n",
       "      <td>138310.352264</td>\n",
       "    </tr>\n",
       "    <tr>\n",
       "      <th>Paid Social</th>\n",
       "      <td>19028.85936</td>\n",
       "      <td>66661.976832</td>\n",
       "      <td>85690.836192</td>\n",
       "    </tr>\n",
       "  </tbody>\n",
       "</table>\n",
       "</div>"
      ],
      "text/plain": [
       "                    1st Order Profit  Subsequent Order Profit   Total Profit\n",
       "Source of Customer                                                          \n",
       "Direct                  118088.71520            416537.284480  534625.999680\n",
       "Organic Search           90508.08441            316989.975240  407498.059650\n",
       "Paid Search              69376.28180            236564.673760  305940.955560\n",
       "Affiliates               29766.67596            108543.676304  138310.352264\n",
       "Paid Social              19028.85936             66661.976832   85690.836192"
      ]
     },
     "execution_count": 9,
     "metadata": {},
     "output_type": "execute_result"
    }
   ],
   "source": [
    "df_source_of_cust = df_table.groupby('Source of Customer')['1st Order Profit', 'Subsequent Order Profit'].sum()\n",
    "df_source_of_cust['Total Profit'] = df_source_of_cust['1st Order Profit'] + df_source_of_cust['Subsequent Order Profit']\n",
    "df_source_of_cust.sort_values('Total Profit', ascending=False)"
   ]
  },
  {
   "cell_type": "markdown",
   "metadata": {},
   "source": [
    "The below graph is a visualization of the above table showing most profitable customers by Source of Customer group"
   ]
  },
  {
   "cell_type": "code",
   "execution_count": 10,
   "metadata": {},
   "outputs": [
    {
     "data": {
      "text/plain": [
       "<matplotlib.axes._subplots.AxesSubplot at 0x27602841198>"
      ]
     },
     "execution_count": 10,
     "metadata": {},
     "output_type": "execute_result"
    },
    {
     "data": {
      "image/png": "[encoded data removed]",
      "text/plain": [
       "<matplotlib.figure.Figure at 0x276031430b8>"
      ]
     },
     "metadata": {},
     "output_type": "display_data"
    }
   ],
   "source": [
    "sns.barplot(x='Total Profit', y = 'Source of Customer', data = df_source_of_cust.reset_index().sort_values('Total Profit', ascending=False))"
   ]
  },
  {
   "cell_type": "markdown",
   "metadata": {},
   "source": [
    "<b>Secondly, lets check out the effect of gender</b>"
   ]
  },
  {
   "cell_type": "markdown",
   "metadata": {},
   "source": [
    "It is clear to see from the below table that males offer the most profit making potential"
   ]
  },
  {
   "cell_type": "code",
   "execution_count": 99,
   "metadata": {},
   "outputs": [
    {
     "data": {
      "text/html": [
       "<div>\n",
       "<style scoped>\n",
       "    .dataframe tbody tr th:only-of-type {\n",
       "        vertical-align: middle;\n",
       "    }\n",
       "\n",
       "    .dataframe tbody tr th {\n",
       "        vertical-align: top;\n",
       "    }\n",
       "\n",
       "    .dataframe thead th {\n",
       "        text-align: right;\n",
       "    }\n",
       "</style>\n",
       "<table border=\"1\" class=\"dataframe\">\n",
       "  <thead>\n",
       "    <tr style=\"text-align: right;\">\n",
       "      <th></th>\n",
       "      <th>1st Order Profit</th>\n",
       "      <th>Subsequent Order Profit</th>\n",
       "      <th>Total Profit</th>\n",
       "    </tr>\n",
       "    <tr>\n",
       "      <th>Title</th>\n",
       "      <th></th>\n",
       "      <th></th>\n",
       "      <th></th>\n",
       "    </tr>\n",
       "  </thead>\n",
       "  <tbody>\n",
       "    <tr>\n",
       "      <th>Mr</th>\n",
       "      <td>221862.31473</td>\n",
       "      <td>816584.838216</td>\n",
       "      <td>1038447.15</td>\n",
       "    </tr>\n",
       "    <tr>\n",
       "      <th>Miss</th>\n",
       "      <td>24179.30020</td>\n",
       "      <td>74934.019600</td>\n",
       "      <td>99113.32</td>\n",
       "    </tr>\n",
       "    <tr>\n",
       "      <th>Mrs</th>\n",
       "      <td>22760.16230</td>\n",
       "      <td>70669.273600</td>\n",
       "      <td>93429.44</td>\n",
       "    </tr>\n",
       "    <tr>\n",
       "      <th>Ms</th>\n",
       "      <td>20874.48040</td>\n",
       "      <td>65561.348000</td>\n",
       "      <td>86435.83</td>\n",
       "    </tr>\n",
       "  </tbody>\n",
       "</table>\n",
       "</div>"
      ],
      "text/plain": [
       "       1st Order Profit  Subsequent Order Profit  Total Profit\n",
       "Title                                                         \n",
       "Mr         221862.31473            816584.838216    1038447.15\n",
       "Miss        24179.30020             74934.019600      99113.32\n",
       "Mrs         22760.16230             70669.273600      93429.44\n",
       "Ms          20874.48040             65561.348000      86435.83"
      ]
     },
     "execution_count": 99,
     "metadata": {},
     "output_type": "execute_result"
    }
   ],
   "source": [
    "df_gender = df_table.groupby('Title')['1st Order Profit', 'Subsequent Order Profit'].sum()\n",
    "df_gender['Total Profit'] = df_gender['1st Order Profit'] + df_gender['Subsequent Order Profit']\n",
    "df_gender['Total Profit'] = df_gender['Total Profit'].round(2)\n",
    "df_gender.sort_values('Total Profit', ascending=False)"
   ]
  },
  {
   "cell_type": "code",
   "execution_count": 258,
   "metadata": {},
   "outputs": [],
   "source": [
    "female_profit = df_gender.sort_values('Total Profit', ascending=False).iloc[1:]['Total Profit'].sum()\n",
    "male_profit = df_gender.iloc[1]['Total Profit']"
   ]
  },
  {
   "cell_type": "markdown",
   "metadata": {},
   "source": [
    "Males are 3.7 times more profitable than females countrywide"
   ]
  },
  {
   "cell_type": "code",
   "execution_count": 335,
   "metadata": {},
   "outputs": [
    {
     "data": {
      "text/plain": [
       "3.72"
      ]
     },
     "execution_count": 335,
     "metadata": {},
     "output_type": "execute_result"
    }
   ],
   "source": [
    "round(male_profit/female_profit,2)"
   ]
  },
  {
   "cell_type": "markdown",
   "metadata": {},
   "source": [
    "<b>Now, lets look at location</b>\n",
    "\n",
    "Dublin is by far the most profitable area in the country as the below table shows\n",
    "\n",
    "See tableau chart 1.1 for graphic visualization"
   ]
  },
  {
   "cell_type": "code",
   "execution_count": 202,
   "metadata": {},
   "outputs": [
    {
     "data": {
      "text/html": [
       "<div>\n",
       "<style scoped>\n",
       "    .dataframe tbody tr th:only-of-type {\n",
       "        vertical-align: middle;\n",
       "    }\n",
       "\n",
       "    .dataframe tbody tr th {\n",
       "        vertical-align: top;\n",
       "    }\n",
       "\n",
       "    .dataframe thead th {\n",
       "        text-align: right;\n",
       "    }\n",
       "</style>\n",
       "<table border=\"1\" class=\"dataframe\">\n",
       "  <thead>\n",
       "    <tr style=\"text-align: right;\">\n",
       "      <th></th>\n",
       "      <th>1st Order Profit</th>\n",
       "      <th>Subsequent Order Profit</th>\n",
       "      <th>Total Profit</th>\n",
       "    </tr>\n",
       "    <tr>\n",
       "      <th>Address City</th>\n",
       "      <th></th>\n",
       "      <th></th>\n",
       "      <th></th>\n",
       "    </tr>\n",
       "  </thead>\n",
       "  <tbody>\n",
       "    <tr>\n",
       "      <th>Dublin</th>\n",
       "      <td>224615.54170</td>\n",
       "      <td>790694.120176</td>\n",
       "      <td>1015309.66</td>\n",
       "    </tr>\n",
       "    <tr>\n",
       "      <th>Cork</th>\n",
       "      <td>11371.91298</td>\n",
       "      <td>42418.445536</td>\n",
       "      <td>53790.36</td>\n",
       "    </tr>\n",
       "    <tr>\n",
       "      <th>Galway</th>\n",
       "      <td>6784.47100</td>\n",
       "      <td>22688.359984</td>\n",
       "      <td>29472.83</td>\n",
       "    </tr>\n",
       "    <tr>\n",
       "      <th>Limerick</th>\n",
       "      <td>6520.51184</td>\n",
       "      <td>22422.483168</td>\n",
       "      <td>28943.00</td>\n",
       "    </tr>\n",
       "    <tr>\n",
       "      <th>Waterford</th>\n",
       "      <td>4089.58076</td>\n",
       "      <td>13963.990480</td>\n",
       "      <td>18053.57</td>\n",
       "    </tr>\n",
       "  </tbody>\n",
       "</table>\n",
       "</div>"
      ],
      "text/plain": [
       "              1st Order Profit  Subsequent Order Profit  Total Profit\n",
       "Address City                                                         \n",
       "Dublin            224615.54170            790694.120176    1015309.66\n",
       "Cork               11371.91298             42418.445536      53790.36\n",
       "Galway              6784.47100             22688.359984      29472.83\n",
       "Limerick            6520.51184             22422.483168      28943.00\n",
       "Waterford           4089.58076             13963.990480      18053.57"
      ]
     },
     "execution_count": 202,
     "metadata": {},
     "output_type": "execute_result"
    }
   ],
   "source": [
    "df_area = df_table.groupby('Address City')['1st Order Profit', 'Subsequent Order Profit'].sum()\n",
    "df_area['Total Profit'] = df_area['1st Order Profit'] + df_area['Subsequent Order Profit']\n",
    "df_area['Total Profit'] = df_area['Total Profit'].round(2)\n",
    "df_area.sort_values('Total Profit', ascending=False).head()"
   ]
  },
  {
   "cell_type": "code",
   "execution_count": 268,
   "metadata": {},
   "outputs": [
    {
     "data": {
      "text/plain": [
       "<matplotlib.axes._subplots.AxesSubplot at 0x276038ffc18>"
      ]
     },
     "execution_count": 268,
     "metadata": {},
     "output_type": "execute_result"
    },
    {
     "data": {
      "image/png": "[encoded data removed]",
      "text/plain": [
       "<matplotlib.figure.Figure at 0x27607aef400>"
      ]
     },
     "metadata": {},
     "output_type": "display_data"
    }
   ],
   "source": [
    "sns.barplot(data=df_area.reset_index().sort_values('Total Profit', ascending=False).head(), \n",
    "            x='Total Profit', y='Address City')"
   ]
  },
  {
   "cell_type": "markdown",
   "metadata": {},
   "source": [
    "<b>Next, lets look at the age profile of our customers</b>"
   ]
  },
  {
   "cell_type": "code",
   "execution_count": 105,
   "metadata": {},
   "outputs": [
    {
     "data": {
      "text/plain": [
       "1st Order Profit                        float64\n",
       "Subsequent Order Profit                 float64\n",
       "Subsequent Orders Count                   int64\n",
       "Total value of all promotions           float64\n",
       "Title                                    object\n",
       "Date Of Birth                    datetime64[ns]\n",
       "Address City                             object\n",
       "Contact Allowed                          object\n",
       "Registration Date                datetime64[ns]\n",
       "Source of Customer                       object\n",
       "dtype: object"
      ]
     },
     "execution_count": 105,
     "metadata": {},
     "output_type": "execute_result"
    }
   ],
   "source": [
    "df_table.dtypes"
   ]
  },
  {
   "cell_type": "markdown",
   "metadata": {},
   "source": [
    "I am going to assume the snapshot data was taken today"
   ]
  },
  {
   "cell_type": "code",
   "execution_count": 203,
   "metadata": {},
   "outputs": [
    {
     "data": {
      "text/plain": [
       "datetime.date(2019, 4, 24)"
      ]
     },
     "execution_count": 203,
     "metadata": {},
     "output_type": "execute_result"
    }
   ],
   "source": [
    "date = dt.date.today()\n",
    "date"
   ]
  },
  {
   "cell_type": "code",
   "execution_count": 204,
   "metadata": {},
   "outputs": [],
   "source": [
    "df_table['Date'] = date"
   ]
  },
  {
   "cell_type": "code",
   "execution_count": 209,
   "metadata": {},
   "outputs": [],
   "source": [
    "df_table['Date'] = pd.to_datetime(df_table['Date'])"
   ]
  },
  {
   "cell_type": "code",
   "execution_count": 210,
   "metadata": {},
   "outputs": [],
   "source": [
    "df_table['Customer Age'] = df_table['Date'] - df_table['Date Of Birth']\n",
    "df_table['Customer Age']= df_table['Customer Age']/np.timedelta64(1,'Y')\n",
    "df_table['Customer Age'] = df_table['Customer Age'].round(0)"
   ]
  },
  {
   "cell_type": "code",
   "execution_count": 211,
   "metadata": {},
   "outputs": [],
   "source": [
    "df_table['Total Profit'] = df_table['1st Order Profit'] + df_table['Subsequent Order Profit']"
   ]
  },
  {
   "cell_type": "code",
   "execution_count": 212,
   "metadata": {},
   "outputs": [
    {
     "data": {
      "text/plain": [
       "26.0"
      ]
     },
     "execution_count": 212,
     "metadata": {},
     "output_type": "execute_result"
    }
   ],
   "source": [
    "min_age = df_table['Customer Age'].min()\n",
    "min_age"
   ]
  },
  {
   "cell_type": "code",
   "execution_count": 213,
   "metadata": {},
   "outputs": [
    {
     "data": {
      "text/plain": [
       "102.0"
      ]
     },
     "execution_count": 213,
     "metadata": {},
     "output_type": "execute_result"
    }
   ],
   "source": [
    "max_age = df_table['Customer Age'].max()\n",
    "max_age"
   ]
  },
  {
   "cell_type": "code",
   "execution_count": 216,
   "metadata": {},
   "outputs": [],
   "source": [
    "df_table['Age Interval'] = pd.cut(df_table['Customer Age'], [25,35,45,55,65,75,85,95,105], \n",
    "                                  labels=['25-35','35-45','45-55','55-65','65-75','75-85','85-95','95-105'])"
   ]
  },
  {
   "cell_type": "code",
   "execution_count": 265,
   "metadata": {},
   "outputs": [
    {
     "data": {
      "text/html": [
       "<div>\n",
       "<style scoped>\n",
       "    .dataframe tbody tr th:only-of-type {\n",
       "        vertical-align: middle;\n",
       "    }\n",
       "\n",
       "    .dataframe tbody tr th {\n",
       "        vertical-align: top;\n",
       "    }\n",
       "\n",
       "    .dataframe thead th {\n",
       "        text-align: right;\n",
       "    }\n",
       "</style>\n",
       "<table border=\"1\" class=\"dataframe\">\n",
       "  <thead>\n",
       "    <tr style=\"text-align: right;\">\n",
       "      <th></th>\n",
       "      <th>1st Order Profit</th>\n",
       "      <th>Subsequent Order Profit</th>\n",
       "      <th>Subsequent Orders Count</th>\n",
       "      <th>Total value of all promotions</th>\n",
       "      <th>Title</th>\n",
       "      <th>Date Of Birth</th>\n",
       "      <th>Address City</th>\n",
       "      <th>Contact Allowed</th>\n",
       "      <th>Registration Date</th>\n",
       "      <th>Source of Customer</th>\n",
       "      <th>Date</th>\n",
       "      <th>Customer Age</th>\n",
       "      <th>Total Profit</th>\n",
       "      <th>Age Interval</th>\n",
       "    </tr>\n",
       "    <tr>\n",
       "      <th>Customer ID</th>\n",
       "      <th></th>\n",
       "      <th></th>\n",
       "      <th></th>\n",
       "      <th></th>\n",
       "      <th></th>\n",
       "      <th></th>\n",
       "      <th></th>\n",
       "      <th></th>\n",
       "      <th></th>\n",
       "      <th></th>\n",
       "      <th></th>\n",
       "      <th></th>\n",
       "      <th></th>\n",
       "      <th></th>\n",
       "    </tr>\n",
       "  </thead>\n",
       "  <tbody>\n",
       "    <tr>\n",
       "      <th>1</th>\n",
       "      <td>8.97261</td>\n",
       "      <td>5.30772</td>\n",
       "      <td>1</td>\n",
       "      <td>6.600000</td>\n",
       "      <td>Mr</td>\n",
       "      <td>1973-06-29</td>\n",
       "      <td>Malahide</td>\n",
       "      <td>Y</td>\n",
       "      <td>2013-01-01 00:23:00</td>\n",
       "      <td>Organic Search</td>\n",
       "      <td>2019-04-24</td>\n",
       "      <td>46.0</td>\n",
       "      <td>14.28033</td>\n",
       "      <td>45-55</td>\n",
       "    </tr>\n",
       "    <tr>\n",
       "      <th>2</th>\n",
       "      <td>7.92288</td>\n",
       "      <td>70.15680</td>\n",
       "      <td>7</td>\n",
       "      <td>6.639453</td>\n",
       "      <td>Mr</td>\n",
       "      <td>1984-07-25</td>\n",
       "      <td>Dublin</td>\n",
       "      <td>Y</td>\n",
       "      <td>2013-01-01 00:30:00</td>\n",
       "      <td>Affiliates</td>\n",
       "      <td>2019-04-24</td>\n",
       "      <td>35.0</td>\n",
       "      <td>78.07968</td>\n",
       "      <td>25-35</td>\n",
       "    </tr>\n",
       "    <tr>\n",
       "      <th>3</th>\n",
       "      <td>14.06160</td>\n",
       "      <td>50.80320</td>\n",
       "      <td>7</td>\n",
       "      <td>0.000000</td>\n",
       "      <td>Mr</td>\n",
       "      <td>1991-05-01</td>\n",
       "      <td>Dublin</td>\n",
       "      <td>Y</td>\n",
       "      <td>2013-01-01 01:09:00</td>\n",
       "      <td>Paid Social</td>\n",
       "      <td>2019-04-24</td>\n",
       "      <td>28.0</td>\n",
       "      <td>64.86480</td>\n",
       "      <td>25-35</td>\n",
       "    </tr>\n",
       "    <tr>\n",
       "      <th>4</th>\n",
       "      <td>14.07672</td>\n",
       "      <td>0.00000</td>\n",
       "      <td>0</td>\n",
       "      <td>0.000000</td>\n",
       "      <td>Mr</td>\n",
       "      <td>1986-11-30</td>\n",
       "      <td>Dublin</td>\n",
       "      <td>N</td>\n",
       "      <td>2013-01-01 01:19:00</td>\n",
       "      <td>Affiliates</td>\n",
       "      <td>2019-04-24</td>\n",
       "      <td>32.0</td>\n",
       "      <td>14.07672</td>\n",
       "      <td>25-35</td>\n",
       "    </tr>\n",
       "    <tr>\n",
       "      <th>5</th>\n",
       "      <td>22.68000</td>\n",
       "      <td>68.22144</td>\n",
       "      <td>9</td>\n",
       "      <td>14.771948</td>\n",
       "      <td>Mr</td>\n",
       "      <td>1991-10-02</td>\n",
       "      <td>Limerick</td>\n",
       "      <td>Y</td>\n",
       "      <td>2013-01-01 01:58:00</td>\n",
       "      <td>Paid Search</td>\n",
       "      <td>2019-04-24</td>\n",
       "      <td>28.0</td>\n",
       "      <td>90.90144</td>\n",
       "      <td>25-35</td>\n",
       "    </tr>\n",
       "  </tbody>\n",
       "</table>\n",
       "</div>"
      ],
      "text/plain": [
       "             1st Order Profit  Subsequent Order Profit  \\\n",
       "Customer ID                                              \n",
       "1                     8.97261                  5.30772   \n",
       "2                     7.92288                 70.15680   \n",
       "3                    14.06160                 50.80320   \n",
       "4                    14.07672                  0.00000   \n",
       "5                    22.68000                 68.22144   \n",
       "\n",
       "             Subsequent Orders Count  Total value of all promotions Title  \\\n",
       "Customer ID                                                                 \n",
       "1                                  1                       6.600000    Mr   \n",
       "2                                  7                       6.639453    Mr   \n",
       "3                                  7                       0.000000    Mr   \n",
       "4                                  0                       0.000000    Mr   \n",
       "5                                  9                      14.771948    Mr   \n",
       "\n",
       "            Date Of Birth Address City Contact Allowed   Registration Date  \\\n",
       "Customer ID                                                                  \n",
       "1              1973-06-29     Malahide               Y 2013-01-01 00:23:00   \n",
       "2              1984-07-25       Dublin               Y 2013-01-01 00:30:00   \n",
       "3              1991-05-01       Dublin               Y 2013-01-01 01:09:00   \n",
       "4              1986-11-30       Dublin               N 2013-01-01 01:19:00   \n",
       "5              1991-10-02     Limerick               Y 2013-01-01 01:58:00   \n",
       "\n",
       "            Source of Customer       Date  Customer Age  Total Profit  \\\n",
       "Customer ID                                                             \n",
       "1               Organic Search 2019-04-24          46.0      14.28033   \n",
       "2                   Affiliates 2019-04-24          35.0      78.07968   \n",
       "3                  Paid Social 2019-04-24          28.0      64.86480   \n",
       "4                   Affiliates 2019-04-24          32.0      14.07672   \n",
       "5                  Paid Search 2019-04-24          28.0      90.90144   \n",
       "\n",
       "            Age Interval  \n",
       "Customer ID               \n",
       "1                  45-55  \n",
       "2                  25-35  \n",
       "3                  25-35  \n",
       "4                  25-35  \n",
       "5                  25-35  "
      ]
     },
     "execution_count": 265,
     "metadata": {},
     "output_type": "execute_result"
    }
   ],
   "source": [
    "df_table.head()"
   ]
  },
  {
   "cell_type": "markdown",
   "metadata": {},
   "source": [
    "The most profitable customers are in between the ages 25-45"
   ]
  },
  {
   "cell_type": "code",
   "execution_count": 219,
   "metadata": {},
   "outputs": [
    {
     "data": {
      "text/html": [
       "<div>\n",
       "<style scoped>\n",
       "    .dataframe tbody tr th:only-of-type {\n",
       "        vertical-align: middle;\n",
       "    }\n",
       "\n",
       "    .dataframe tbody tr th {\n",
       "        vertical-align: top;\n",
       "    }\n",
       "\n",
       "    .dataframe thead th {\n",
       "        text-align: right;\n",
       "    }\n",
       "</style>\n",
       "<table border=\"1\" class=\"dataframe\">\n",
       "  <thead>\n",
       "    <tr style=\"text-align: right;\">\n",
       "      <th></th>\n",
       "      <th>1st Order Profit</th>\n",
       "      <th>Subsequent Order Profit</th>\n",
       "      <th>Total Profit</th>\n",
       "    </tr>\n",
       "    <tr>\n",
       "      <th>Age Interval</th>\n",
       "      <th></th>\n",
       "      <th></th>\n",
       "      <th></th>\n",
       "    </tr>\n",
       "  </thead>\n",
       "  <tbody>\n",
       "    <tr>\n",
       "      <th>35-45</th>\n",
       "      <td>113143.39686</td>\n",
       "      <td>397664.346704</td>\n",
       "      <td>510807.74</td>\n",
       "    </tr>\n",
       "    <tr>\n",
       "      <th>25-35</th>\n",
       "      <td>109602.19566</td>\n",
       "      <td>391857.675808</td>\n",
       "      <td>501459.87</td>\n",
       "    </tr>\n",
       "    <tr>\n",
       "      <th>45-55</th>\n",
       "      <td>62815.11415</td>\n",
       "      <td>211737.776680</td>\n",
       "      <td>274552.89</td>\n",
       "    </tr>\n",
       "    <tr>\n",
       "      <th>55-65</th>\n",
       "      <td>27079.09066</td>\n",
       "      <td>96136.615424</td>\n",
       "      <td>123215.71</td>\n",
       "    </tr>\n",
       "    <tr>\n",
       "      <th>65-75</th>\n",
       "      <td>10852.89700</td>\n",
       "      <td>36808.629280</td>\n",
       "      <td>47661.53</td>\n",
       "    </tr>\n",
       "    <tr>\n",
       "      <th>75-85</th>\n",
       "      <td>2709.64240</td>\n",
       "      <td>8914.354240</td>\n",
       "      <td>11624.00</td>\n",
       "    </tr>\n",
       "    <tr>\n",
       "      <th>85-95</th>\n",
       "      <td>480.79800</td>\n",
       "      <td>1930.762880</td>\n",
       "      <td>2411.56</td>\n",
       "    </tr>\n",
       "    <tr>\n",
       "      <th>95-105</th>\n",
       "      <td>85.48200</td>\n",
       "      <td>247.425600</td>\n",
       "      <td>332.91</td>\n",
       "    </tr>\n",
       "  </tbody>\n",
       "</table>\n",
       "</div>"
      ],
      "text/plain": [
       "              1st Order Profit  Subsequent Order Profit  Total Profit\n",
       "Age Interval                                                         \n",
       "35-45             113143.39686            397664.346704     510807.74\n",
       "25-35             109602.19566            391857.675808     501459.87\n",
       "45-55              62815.11415            211737.776680     274552.89\n",
       "55-65              27079.09066             96136.615424     123215.71\n",
       "65-75              10852.89700             36808.629280      47661.53\n",
       "75-85               2709.64240              8914.354240      11624.00\n",
       "85-95                480.79800              1930.762880       2411.56\n",
       "95-105                85.48200               247.425600        332.91"
      ]
     },
     "execution_count": 219,
     "metadata": {},
     "output_type": "execute_result"
    }
   ],
   "source": [
    "df_age = df_table.groupby('Age Interval')['1st Order Profit', 'Subsequent Order Profit'].sum()\n",
    "df_age['Total Profit'] = df_age['1st Order Profit'] + df_age['Subsequent Order Profit']\n",
    "df_age['Total Profit'] = df_age['Total Profit'].round(2)\n",
    "df_age.sort_values('Total Profit',ascending=False)"
   ]
  },
  {
   "cell_type": "code",
   "execution_count": 220,
   "metadata": {},
   "outputs": [
    {
     "data": {
      "text/plain": [
       "<matplotlib.axes._subplots.AxesSubplot at 0x27603581588>"
      ]
     },
     "execution_count": 220,
     "metadata": {},
     "output_type": "execute_result"
    },
    {
     "data": {
      "image/png": "[encoded data removed]",
      "text/plain": [
       "<matplotlib.figure.Figure at 0x276030392e8>"
      ]
     },
     "metadata": {},
     "output_type": "display_data"
    }
   ],
   "source": [
    "sns.barplot(x='Age Interval', y = 'Total Profit', \n",
    "            data = df_age.reset_index())"
   ]
  },
  {
   "cell_type": "markdown",
   "metadata": {},
   "source": [
    "<b>Now lets drill down into the subcategories of the most profitable categories</b>\n",
    "\n",
    "For example, lets look at age intervals within the Dublin region"
   ]
  },
  {
   "cell_type": "code",
   "execution_count": 245,
   "metadata": {},
   "outputs": [
    {
     "data": {
      "text/html": [
       "<div>\n",
       "<style scoped>\n",
       "    .dataframe tbody tr th:only-of-type {\n",
       "        vertical-align: middle;\n",
       "    }\n",
       "\n",
       "    .dataframe tbody tr th {\n",
       "        vertical-align: top;\n",
       "    }\n",
       "\n",
       "    .dataframe thead th {\n",
       "        text-align: right;\n",
       "    }\n",
       "</style>\n",
       "<table border=\"1\" class=\"dataframe\">\n",
       "  <thead>\n",
       "    <tr style=\"text-align: right;\">\n",
       "      <th></th>\n",
       "      <th>1st Order Profit</th>\n",
       "      <th>Subsequent Order Profit</th>\n",
       "      <th>Subsequent Orders Count</th>\n",
       "      <th>Total value of all promotions</th>\n",
       "      <th>Title</th>\n",
       "      <th>Date Of Birth</th>\n",
       "      <th>Address City</th>\n",
       "      <th>Contact Allowed</th>\n",
       "      <th>Registration Date</th>\n",
       "      <th>Source of Customer</th>\n",
       "      <th>Date</th>\n",
       "      <th>Customer Age</th>\n",
       "      <th>Total Profit</th>\n",
       "      <th>Age Interval</th>\n",
       "    </tr>\n",
       "    <tr>\n",
       "      <th>Customer ID</th>\n",
       "      <th></th>\n",
       "      <th></th>\n",
       "      <th></th>\n",
       "      <th></th>\n",
       "      <th></th>\n",
       "      <th></th>\n",
       "      <th></th>\n",
       "      <th></th>\n",
       "      <th></th>\n",
       "      <th></th>\n",
       "      <th></th>\n",
       "      <th></th>\n",
       "      <th></th>\n",
       "      <th></th>\n",
       "    </tr>\n",
       "  </thead>\n",
       "  <tbody>\n",
       "    <tr>\n",
       "      <th>1</th>\n",
       "      <td>8.97261</td>\n",
       "      <td>5.30772</td>\n",
       "      <td>1</td>\n",
       "      <td>6.600000</td>\n",
       "      <td>Mr</td>\n",
       "      <td>1973-06-29</td>\n",
       "      <td>Malahide</td>\n",
       "      <td>Y</td>\n",
       "      <td>2013-01-01 00:23:00</td>\n",
       "      <td>Organic Search</td>\n",
       "      <td>2019-04-24</td>\n",
       "      <td>46.0</td>\n",
       "      <td>14.28033</td>\n",
       "      <td>45-55</td>\n",
       "    </tr>\n",
       "    <tr>\n",
       "      <th>2</th>\n",
       "      <td>7.92288</td>\n",
       "      <td>70.15680</td>\n",
       "      <td>7</td>\n",
       "      <td>6.639453</td>\n",
       "      <td>Mr</td>\n",
       "      <td>1984-07-25</td>\n",
       "      <td>Dublin</td>\n",
       "      <td>Y</td>\n",
       "      <td>2013-01-01 00:30:00</td>\n",
       "      <td>Affiliates</td>\n",
       "      <td>2019-04-24</td>\n",
       "      <td>35.0</td>\n",
       "      <td>78.07968</td>\n",
       "      <td>25-35</td>\n",
       "    </tr>\n",
       "  </tbody>\n",
       "</table>\n",
       "</div>"
      ],
      "text/plain": [
       "             1st Order Profit  Subsequent Order Profit  \\\n",
       "Customer ID                                              \n",
       "1                     8.97261                  5.30772   \n",
       "2                     7.92288                 70.15680   \n",
       "\n",
       "             Subsequent Orders Count  Total value of all promotions Title  \\\n",
       "Customer ID                                                                 \n",
       "1                                  1                       6.600000    Mr   \n",
       "2                                  7                       6.639453    Mr   \n",
       "\n",
       "            Date Of Birth Address City Contact Allowed   Registration Date  \\\n",
       "Customer ID                                                                  \n",
       "1              1973-06-29     Malahide               Y 2013-01-01 00:23:00   \n",
       "2              1984-07-25       Dublin               Y 2013-01-01 00:30:00   \n",
       "\n",
       "            Source of Customer       Date  Customer Age  Total Profit  \\\n",
       "Customer ID                                                             \n",
       "1               Organic Search 2019-04-24          46.0      14.28033   \n",
       "2                   Affiliates 2019-04-24          35.0      78.07968   \n",
       "\n",
       "            Age Interval  \n",
       "Customer ID               \n",
       "1                  45-55  \n",
       "2                  25-35  "
      ]
     },
     "execution_count": 245,
     "metadata": {},
     "output_type": "execute_result"
    }
   ],
   "source": [
    "df_table.head(2)"
   ]
  },
  {
   "cell_type": "markdown",
   "metadata": {},
   "source": [
    "The below table shows us that Dublin is consistent with the rest of the country in that the most profitable customers \n",
    "are aged between 25 and 45. Dublin is in fact most likely driving this statistic in the country as a whole."
   ]
  },
  {
   "cell_type": "code",
   "execution_count": 251,
   "metadata": {},
   "outputs": [
    {
     "data": {
      "text/plain": [
       "Age Interval\n",
       "35-45     349138.0\n",
       "25-35     348365.0\n",
       "45-55     189310.0\n",
       "55-65      83404.0\n",
       "65-75      35107.0\n",
       "75-85       8192.0\n",
       "85-95       1521.0\n",
       "95-105       271.0\n",
       "Name: Dublin, dtype: float64"
      ]
     },
     "execution_count": 251,
     "metadata": {},
     "output_type": "execute_result"
    }
   ],
   "source": [
    "table_1 = pd.pivot_table(df_table, values='Total Profit', index=['Address City'], \n",
    "                         columns=['Age Interval'], aggfunc=np.sum)\n",
    "\n",
    "dublin_age_table = table_1.loc['Dublin'].sort_values(ascending=False).round(0)\n",
    "dublin_age_table"
   ]
  },
  {
   "cell_type": "markdown",
   "metadata": {},
   "source": [
    "Again, within Dublin, Males are the most profitable customer just like in the rest of the country"
   ]
  },
  {
   "cell_type": "code",
   "execution_count": 253,
   "metadata": {},
   "outputs": [
    {
     "data": {
      "text/plain": [
       "Title\n",
       "Mr      722152.0\n",
       "Miss     68160.0\n",
       "Mrs      63870.0\n",
       "Ms       57485.0\n",
       "Name: Dublin, dtype: float64"
      ]
     },
     "execution_count": 253,
     "metadata": {},
     "output_type": "execute_result"
    }
   ],
   "source": [
    "table_2 = pd.pivot_table(df_table, values='Total Profit', index=['Address City'], \n",
    "                         columns=['Title'], aggfunc=np.sum)\n",
    "\n",
    "dublin_gender = table_2.loc['Dublin'].sort_values(ascending=False).round(0)\n",
    "dublin_gender"
   ]
  },
  {
   "cell_type": "markdown",
   "metadata": {},
   "source": [
    "Even the male:female ratio of 3.8:1 very closely follows the ratio for the country of a whole of 3.7:1\n",
    "Again the ratio in Dublin is influencing and in fact driving the ratio of the country as a whole"
   ]
  },
  {
   "cell_type": "code",
   "execution_count": 255,
   "metadata": {},
   "outputs": [
    {
     "data": {
      "text/plain": [
       "189515.0"
      ]
     },
     "execution_count": 255,
     "metadata": {},
     "output_type": "execute_result"
    }
   ],
   "source": [
    "female_dublin_profit= dublin_gender.sort_values(ascending=False).iloc[1:].sum()\n",
    "female_dublin_profit"
   ]
  },
  {
   "cell_type": "code",
   "execution_count": 256,
   "metadata": {},
   "outputs": [
    {
     "data": {
      "text/plain": [
       "3.8105268712239138"
      ]
     },
     "execution_count": 256,
     "metadata": {},
     "output_type": "execute_result"
    }
   ],
   "source": [
    "dublin_gender[0]/female_dublin_profit"
   ]
  },
  {
   "cell_type": "markdown",
   "metadata": {},
   "source": [
    "<b>Marketing Costs</b>"
   ]
  },
  {
   "cell_type": "markdown",
   "metadata": {},
   "source": [
    "I assume the marketing costs have already been including in the basic profit calculation (revenue-costs)"
   ]
  },
  {
   "cell_type": "code",
   "execution_count": 281,
   "metadata": {},
   "outputs": [
    {
     "data": {
      "text/html": [
       "<div>\n",
       "<style scoped>\n",
       "    .dataframe tbody tr th:only-of-type {\n",
       "        vertical-align: middle;\n",
       "    }\n",
       "\n",
       "    .dataframe tbody tr th {\n",
       "        vertical-align: top;\n",
       "    }\n",
       "\n",
       "    .dataframe thead th {\n",
       "        text-align: right;\n",
       "    }\n",
       "</style>\n",
       "<table border=\"1\" class=\"dataframe\">\n",
       "  <thead>\n",
       "    <tr style=\"text-align: right;\">\n",
       "      <th></th>\n",
       "      <th>1st Order Profit</th>\n",
       "      <th>Subsequent Order Profit</th>\n",
       "      <th>Total Profit</th>\n",
       "    </tr>\n",
       "    <tr>\n",
       "      <th>Source of Customer</th>\n",
       "      <th></th>\n",
       "      <th></th>\n",
       "      <th></th>\n",
       "    </tr>\n",
       "  </thead>\n",
       "  <tbody>\n",
       "    <tr>\n",
       "      <th>Direct</th>\n",
       "      <td>118088.71520</td>\n",
       "      <td>416537.284480</td>\n",
       "      <td>534625.999680</td>\n",
       "    </tr>\n",
       "    <tr>\n",
       "      <th>Organic Search</th>\n",
       "      <td>90508.08441</td>\n",
       "      <td>316989.975240</td>\n",
       "      <td>407498.059650</td>\n",
       "    </tr>\n",
       "    <tr>\n",
       "      <th>Paid Search</th>\n",
       "      <td>69376.28180</td>\n",
       "      <td>236564.673760</td>\n",
       "      <td>305940.955560</td>\n",
       "    </tr>\n",
       "    <tr>\n",
       "      <th>Affiliates</th>\n",
       "      <td>29766.67596</td>\n",
       "      <td>108543.676304</td>\n",
       "      <td>138310.352264</td>\n",
       "    </tr>\n",
       "    <tr>\n",
       "      <th>Paid Social</th>\n",
       "      <td>19028.85936</td>\n",
       "      <td>66661.976832</td>\n",
       "      <td>85690.836192</td>\n",
       "    </tr>\n",
       "  </tbody>\n",
       "</table>\n",
       "</div>"
      ],
      "text/plain": [
       "                    1st Order Profit  Subsequent Order Profit   Total Profit\n",
       "Source of Customer                                                          \n",
       "Direct                  118088.71520            416537.284480  534625.999680\n",
       "Organic Search           90508.08441            316989.975240  407498.059650\n",
       "Paid Search              69376.28180            236564.673760  305940.955560\n",
       "Affiliates               29766.67596            108543.676304  138310.352264\n",
       "Paid Social              19028.85936             66661.976832   85690.836192"
      ]
     },
     "execution_count": 281,
     "metadata": {},
     "output_type": "execute_result"
    }
   ],
   "source": [
    "#total profits grouped by source of customer\n",
    "df_source_of_cust.sort_values('Total Profit', ascending=False)"
   ]
  },
  {
   "cell_type": "code",
   "execution_count": 282,
   "metadata": {},
   "outputs": [
    {
     "data": {
      "text/html": [
       "<div>\n",
       "<style scoped>\n",
       "    .dataframe tbody tr th:only-of-type {\n",
       "        vertical-align: middle;\n",
       "    }\n",
       "\n",
       "    .dataframe tbody tr th {\n",
       "        vertical-align: top;\n",
       "    }\n",
       "\n",
       "    .dataframe thead th {\n",
       "        text-align: right;\n",
       "    }\n",
       "</style>\n",
       "<table border=\"1\" class=\"dataframe\">\n",
       "  <thead>\n",
       "    <tr style=\"text-align: right;\">\n",
       "      <th></th>\n",
       "      <th>Paid Search</th>\n",
       "      <th>Affiliates</th>\n",
       "    </tr>\n",
       "    <tr>\n",
       "      <th>Month</th>\n",
       "      <th></th>\n",
       "      <th></th>\n",
       "    </tr>\n",
       "  </thead>\n",
       "  <tbody>\n",
       "    <tr>\n",
       "      <th>2013-01-01</th>\n",
       "      <td>41512.00</td>\n",
       "      <td>16421</td>\n",
       "    </tr>\n",
       "    <tr>\n",
       "      <th>2013-02-01</th>\n",
       "      <td>61243.00</td>\n",
       "      <td>42101</td>\n",
       "    </tr>\n",
       "    <tr>\n",
       "      <th>2013-03-01</th>\n",
       "      <td>84597.88</td>\n",
       "      <td>141321</td>\n",
       "    </tr>\n",
       "  </tbody>\n",
       "</table>\n",
       "</div>"
      ],
      "text/plain": [
       "            Paid Search  Affiliates\n",
       "Month                              \n",
       "2013-01-01     41512.00       16421\n",
       "2013-02-01     61243.00       42101\n",
       "2013-03-01     84597.88      141321"
      ]
     },
     "execution_count": 282,
     "metadata": {},
     "output_type": "execute_result"
    }
   ],
   "source": [
    "#marketing costs\n",
    "df_cost"
   ]
  },
  {
   "cell_type": "code",
   "execution_count": 284,
   "metadata": {},
   "outputs": [
    {
     "data": {
      "text/plain": [
       "Paid Search    float64\n",
       "Affiliates       int64\n",
       "dtype: object"
      ]
     },
     "execution_count": 284,
     "metadata": {},
     "output_type": "execute_result"
    }
   ],
   "source": [
    "df_cost.dtypes"
   ]
  },
  {
   "cell_type": "code",
   "execution_count": 287,
   "metadata": {},
   "outputs": [
    {
     "data": {
      "text/plain": [
       "Paid Search    187352.88\n",
       "Affiliates     199843.00\n",
       "dtype: float64"
      ]
     },
     "execution_count": 287,
     "metadata": {},
     "output_type": "execute_result"
    }
   ],
   "source": [
    "#the sum of the df_cost columns\n",
    "total_marketing_costs = df_cost.sum(axis=0)\n",
    "total_marketing_costs"
   ]
  },
  {
   "cell_type": "markdown",
   "metadata": {},
   "source": [
    "So paid search offers 1.6 euro in profit for every euro spent in costs"
   ]
  },
  {
   "cell_type": "code",
   "execution_count": 293,
   "metadata": {},
   "outputs": [
    {
     "data": {
      "text/plain": [
       "187352.88"
      ]
     },
     "execution_count": 293,
     "metadata": {},
     "output_type": "execute_result"
    }
   ],
   "source": [
    "paid_search_cost = total_marketing_costs.loc['Paid Search']\n",
    "paid_search_cost"
   ]
  },
  {
   "cell_type": "code",
   "execution_count": 291,
   "metadata": {},
   "outputs": [
    {
     "data": {
      "text/plain": [
       "305940.9555599997"
      ]
     },
     "execution_count": 291,
     "metadata": {},
     "output_type": "execute_result"
    }
   ],
   "source": [
    "paid_search_profit = df_source_of_cust.sort_values('Total Profit', ascending=False)['Total Profit'].loc['Paid Search']\n",
    "paid_search_profit"
   ]
  },
  {
   "cell_type": "code",
   "execution_count": 299,
   "metadata": {},
   "outputs": [
    {
     "data": {
      "text/plain": [
       "1.6"
      ]
     },
     "execution_count": 299,
     "metadata": {},
     "output_type": "execute_result"
    }
   ],
   "source": [
    "round(paid_search_profit/paid_search_cost,1)"
   ]
  },
  {
   "cell_type": "markdown",
   "metadata": {},
   "source": [
    "Affiliates on the other hand only offers 0.7 euro profit for every euro spent on marketing costs"
   ]
  },
  {
   "cell_type": "code",
   "execution_count": 295,
   "metadata": {},
   "outputs": [
    {
     "data": {
      "text/plain": [
       "199843.0"
      ]
     },
     "execution_count": 295,
     "metadata": {},
     "output_type": "execute_result"
    }
   ],
   "source": [
    "affiliates_cost = total_marketing_costs.loc['Affiliates']\n",
    "affiliates_cost"
   ]
  },
  {
   "cell_type": "code",
   "execution_count": 296,
   "metadata": {},
   "outputs": [
    {
     "data": {
      "text/plain": [
       "138310.3522639999"
      ]
     },
     "execution_count": 296,
     "metadata": {},
     "output_type": "execute_result"
    }
   ],
   "source": [
    "affiliates_profit = df_source_of_cust.sort_values('Total Profit', ascending=False)['Total Profit'].loc['Affiliates']\n",
    "affiliates_profit"
   ]
  },
  {
   "cell_type": "code",
   "execution_count": 300,
   "metadata": {},
   "outputs": [
    {
     "data": {
      "text/plain": [
       "0.7"
      ]
     },
     "execution_count": 300,
     "metadata": {},
     "output_type": "execute_result"
    }
   ],
   "source": [
    "round(affiliates_profit/affiliates_cost,1)"
   ]
  },
  {
   "cell_type": "markdown",
   "metadata": {},
   "source": [
    "<b>Promotion Costs and Additional Analysis</b>"
   ]
  },
  {
   "cell_type": "code",
   "execution_count": 262,
   "metadata": {},
   "outputs": [
    {
     "data": {
      "text/plain": [
       "Address City\n",
       "Dublin       138110.348161\n",
       "Cork           7414.749852\n",
       "Galway         4134.586026\n",
       "Limerick       3888.525100\n",
       "Waterford      2457.336012\n",
       "Name: Total value of all promotions, dtype: float64"
      ]
     },
     "execution_count": 262,
     "metadata": {},
     "output_type": "execute_result"
    }
   ],
   "source": [
    "promotion_costs_by_location = df_table.groupby('Address City')['Total value of all promotions'].sum()\n",
    "promotion_costs_by_location.sort_values(ascending=False).head()"
   ]
  },
  {
   "cell_type": "markdown",
   "metadata": {},
   "source": [
    "I am using the below set of scatter plots, matrix's etc to check for a linear relationship between the value variables.\n",
    "\n",
    "The only strong relationship, of r = 0.86, is between Subsequent Order Profit and Subsequent Orders Count. \n",
    "This makes sense as the higher the number of subsequent orders the higher the profit should be.\n",
    "\n",
    "It is clear from the below that no lineaer relationships exist between any of the other variables"
   ]
  },
  {
   "cell_type": "code",
   "execution_count": 269,
   "metadata": {},
   "outputs": [
    {
     "data": {
      "text/plain": [
       "<seaborn.axisgrid.PairGrid at 0x27607c8c7f0>"
      ]
     },
     "execution_count": 269,
     "metadata": {},
     "output_type": "execute_result"
    },
    {
     "data": {
      "image/png": "[encoded data removed]",
      "text/plain": [
       "<matplotlib.figure.Figure at 0x27607566710>"
      ]
     },
     "metadata": {},
     "output_type": "display_data"
    }
   ],
   "source": [
    "sns.pairplot(df_value)"
   ]
  },
  {
   "cell_type": "code",
   "execution_count": 273,
   "metadata": {},
   "outputs": [
    {
     "data": {
      "image/png": "[encoded data removed]",
      "text/plain": [
       "<matplotlib.figure.Figure at 0x27608751780>"
      ]
     },
     "metadata": {},
     "output_type": "display_data"
    }
   ],
   "source": [
    "plt.matshow(df_value.corr())\n",
    "plt.show()"
   ]
  },
  {
   "cell_type": "code",
   "execution_count": 274,
   "metadata": {},
   "outputs": [
    {
     "data": {
      "text/plain": [
       "<matplotlib.axes._subplots.AxesSubplot at 0x27608919d68>"
      ]
     },
     "execution_count": 274,
     "metadata": {},
     "output_type": "execute_result"
    },
    {
     "data": {
      "image/png": "[encoded data removed]",
      "text/plain": [
       "<matplotlib.figure.Figure at 0x27608919860>"
      ]
     },
     "metadata": {},
     "output_type": "display_data"
    }
   ],
   "source": [
    "sns.heatmap(df_value.corr())"
   ]
  },
  {
   "cell_type": "code",
   "execution_count": 280,
   "metadata": {},
   "outputs": [
    {
     "data": {
      "text/plain": [
       "0.86"
      ]
     },
     "execution_count": 280,
     "metadata": {},
     "output_type": "execute_result"
    }
   ],
   "source": [
    "round(df_value['Subsequent Order Profit'].corr(df_value['Subsequent Orders Count']),2)"
   ]
  },
  {
   "cell_type": "markdown",
   "metadata": {},
   "source": [
    "<b>Building Out Further Analysis</b>"
   ]
  },
  {
   "cell_type": "markdown",
   "metadata": {},
   "source": [
    "Lets look at the most profitable age groups within each gender"
   ]
  },
  {
   "cell_type": "code",
   "execution_count": 303,
   "metadata": {},
   "outputs": [
    {
     "data": {
      "text/html": [
       "<div>\n",
       "<style scoped>\n",
       "    .dataframe tbody tr th:only-of-type {\n",
       "        vertical-align: middle;\n",
       "    }\n",
       "\n",
       "    .dataframe tbody tr th {\n",
       "        vertical-align: top;\n",
       "    }\n",
       "\n",
       "    .dataframe thead th {\n",
       "        text-align: right;\n",
       "    }\n",
       "</style>\n",
       "<table border=\"1\" class=\"dataframe\">\n",
       "  <thead>\n",
       "    <tr style=\"text-align: right;\">\n",
       "      <th></th>\n",
       "      <th>1st Order Profit</th>\n",
       "      <th>Subsequent Order Profit</th>\n",
       "      <th>Subsequent Orders Count</th>\n",
       "      <th>Total value of all promotions</th>\n",
       "      <th>Title</th>\n",
       "      <th>Date Of Birth</th>\n",
       "      <th>Address City</th>\n",
       "      <th>Contact Allowed</th>\n",
       "      <th>Registration Date</th>\n",
       "      <th>Source of Customer</th>\n",
       "      <th>Date</th>\n",
       "      <th>Customer Age</th>\n",
       "      <th>Total Profit</th>\n",
       "      <th>Age Interval</th>\n",
       "      <th>Gender</th>\n",
       "    </tr>\n",
       "    <tr>\n",
       "      <th>Customer ID</th>\n",
       "      <th></th>\n",
       "      <th></th>\n",
       "      <th></th>\n",
       "      <th></th>\n",
       "      <th></th>\n",
       "      <th></th>\n",
       "      <th></th>\n",
       "      <th></th>\n",
       "      <th></th>\n",
       "      <th></th>\n",
       "      <th></th>\n",
       "      <th></th>\n",
       "      <th></th>\n",
       "      <th></th>\n",
       "      <th></th>\n",
       "    </tr>\n",
       "  </thead>\n",
       "  <tbody>\n",
       "    <tr>\n",
       "      <th>1</th>\n",
       "      <td>8.97261</td>\n",
       "      <td>5.30772</td>\n",
       "      <td>1</td>\n",
       "      <td>6.600000</td>\n",
       "      <td>Mr</td>\n",
       "      <td>1973-06-29</td>\n",
       "      <td>Malahide</td>\n",
       "      <td>Y</td>\n",
       "      <td>2013-01-01 00:23:00</td>\n",
       "      <td>Organic Search</td>\n",
       "      <td>2019-04-24</td>\n",
       "      <td>46.0</td>\n",
       "      <td>14.28033</td>\n",
       "      <td>45-55</td>\n",
       "      <td>M</td>\n",
       "    </tr>\n",
       "    <tr>\n",
       "      <th>2</th>\n",
       "      <td>7.92288</td>\n",
       "      <td>70.15680</td>\n",
       "      <td>7</td>\n",
       "      <td>6.639453</td>\n",
       "      <td>Mr</td>\n",
       "      <td>1984-07-25</td>\n",
       "      <td>Dublin</td>\n",
       "      <td>Y</td>\n",
       "      <td>2013-01-01 00:30:00</td>\n",
       "      <td>Affiliates</td>\n",
       "      <td>2019-04-24</td>\n",
       "      <td>35.0</td>\n",
       "      <td>78.07968</td>\n",
       "      <td>25-35</td>\n",
       "      <td>M</td>\n",
       "    </tr>\n",
       "    <tr>\n",
       "      <th>3</th>\n",
       "      <td>14.06160</td>\n",
       "      <td>50.80320</td>\n",
       "      <td>7</td>\n",
       "      <td>0.000000</td>\n",
       "      <td>Mr</td>\n",
       "      <td>1991-05-01</td>\n",
       "      <td>Dublin</td>\n",
       "      <td>Y</td>\n",
       "      <td>2013-01-01 01:09:00</td>\n",
       "      <td>Paid Social</td>\n",
       "      <td>2019-04-24</td>\n",
       "      <td>28.0</td>\n",
       "      <td>64.86480</td>\n",
       "      <td>25-35</td>\n",
       "      <td>M</td>\n",
       "    </tr>\n",
       "    <tr>\n",
       "      <th>4</th>\n",
       "      <td>14.07672</td>\n",
       "      <td>0.00000</td>\n",
       "      <td>0</td>\n",
       "      <td>0.000000</td>\n",
       "      <td>Mr</td>\n",
       "      <td>1986-11-30</td>\n",
       "      <td>Dublin</td>\n",
       "      <td>N</td>\n",
       "      <td>2013-01-01 01:19:00</td>\n",
       "      <td>Affiliates</td>\n",
       "      <td>2019-04-24</td>\n",
       "      <td>32.0</td>\n",
       "      <td>14.07672</td>\n",
       "      <td>25-35</td>\n",
       "      <td>M</td>\n",
       "    </tr>\n",
       "    <tr>\n",
       "      <th>5</th>\n",
       "      <td>22.68000</td>\n",
       "      <td>68.22144</td>\n",
       "      <td>9</td>\n",
       "      <td>14.771948</td>\n",
       "      <td>Mr</td>\n",
       "      <td>1991-10-02</td>\n",
       "      <td>Limerick</td>\n",
       "      <td>Y</td>\n",
       "      <td>2013-01-01 01:58:00</td>\n",
       "      <td>Paid Search</td>\n",
       "      <td>2019-04-24</td>\n",
       "      <td>28.0</td>\n",
       "      <td>90.90144</td>\n",
       "      <td>25-35</td>\n",
       "      <td>M</td>\n",
       "    </tr>\n",
       "  </tbody>\n",
       "</table>\n",
       "</div>"
      ],
      "text/plain": [
       "             1st Order Profit  Subsequent Order Profit  \\\n",
       "Customer ID                                              \n",
       "1                     8.97261                  5.30772   \n",
       "2                     7.92288                 70.15680   \n",
       "3                    14.06160                 50.80320   \n",
       "4                    14.07672                  0.00000   \n",
       "5                    22.68000                 68.22144   \n",
       "\n",
       "             Subsequent Orders Count  Total value of all promotions Title  \\\n",
       "Customer ID                                                                 \n",
       "1                                  1                       6.600000    Mr   \n",
       "2                                  7                       6.639453    Mr   \n",
       "3                                  7                       0.000000    Mr   \n",
       "4                                  0                       0.000000    Mr   \n",
       "5                                  9                      14.771948    Mr   \n",
       "\n",
       "            Date Of Birth Address City Contact Allowed   Registration Date  \\\n",
       "Customer ID                                                                  \n",
       "1              1973-06-29     Malahide               Y 2013-01-01 00:23:00   \n",
       "2              1984-07-25       Dublin               Y 2013-01-01 00:30:00   \n",
       "3              1991-05-01       Dublin               Y 2013-01-01 01:09:00   \n",
       "4              1986-11-30       Dublin               N 2013-01-01 01:19:00   \n",
       "5              1991-10-02     Limerick               Y 2013-01-01 01:58:00   \n",
       "\n",
       "            Source of Customer       Date  Customer Age  Total Profit  \\\n",
       "Customer ID                                                             \n",
       "1               Organic Search 2019-04-24          46.0      14.28033   \n",
       "2                   Affiliates 2019-04-24          35.0      78.07968   \n",
       "3                  Paid Social 2019-04-24          28.0      64.86480   \n",
       "4                   Affiliates 2019-04-24          32.0      14.07672   \n",
       "5                  Paid Search 2019-04-24          28.0      90.90144   \n",
       "\n",
       "            Age Interval Gender  \n",
       "Customer ID                      \n",
       "1                  45-55      M  \n",
       "2                  25-35      M  \n",
       "3                  25-35      M  \n",
       "4                  25-35      M  \n",
       "5                  25-35      M  "
      ]
     },
     "execution_count": 303,
     "metadata": {},
     "output_type": "execute_result"
    }
   ],
   "source": [
    "#combining all the female terms together to analyze the male female divide\n",
    "df_table['Gender'] = df_table['Title'].replace({'Mr': 'M', 'Miss': 'F', 'Mrs': 'F', 'Ms': 'F'})\n",
    "df_table.head()"
   ]
  },
  {
   "cell_type": "code",
   "execution_count": 307,
   "metadata": {},
   "outputs": [
    {
     "data": {
      "text/html": [
       "<div>\n",
       "<style scoped>\n",
       "    .dataframe tbody tr th:only-of-type {\n",
       "        vertical-align: middle;\n",
       "    }\n",
       "\n",
       "    .dataframe tbody tr th {\n",
       "        vertical-align: top;\n",
       "    }\n",
       "\n",
       "    .dataframe thead th {\n",
       "        text-align: right;\n",
       "    }\n",
       "</style>\n",
       "<table border=\"1\" class=\"dataframe\">\n",
       "  <thead>\n",
       "    <tr style=\"text-align: right;\">\n",
       "      <th></th>\n",
       "      <th></th>\n",
       "      <th>Total Profit</th>\n",
       "    </tr>\n",
       "    <tr>\n",
       "      <th>Gender</th>\n",
       "      <th>Age Interval</th>\n",
       "      <th></th>\n",
       "    </tr>\n",
       "  </thead>\n",
       "  <tbody>\n",
       "    <tr>\n",
       "      <th rowspan=\"8\" valign=\"top\">F</th>\n",
       "      <th>25-35</th>\n",
       "      <td>88611.169600</td>\n",
       "    </tr>\n",
       "    <tr>\n",
       "      <th>35-45</th>\n",
       "      <td>97433.290800</td>\n",
       "    </tr>\n",
       "    <tr>\n",
       "      <th>45-55</th>\n",
       "      <td>54646.948400</td>\n",
       "    </tr>\n",
       "    <tr>\n",
       "      <th>55-65</th>\n",
       "      <td>27455.658300</td>\n",
       "    </tr>\n",
       "    <tr>\n",
       "      <th>65-75</th>\n",
       "      <td>8476.647000</td>\n",
       "    </tr>\n",
       "    <tr>\n",
       "      <th>75-85</th>\n",
       "      <td>1946.370000</td>\n",
       "    </tr>\n",
       "    <tr>\n",
       "      <th>85-95</th>\n",
       "      <td>318.590000</td>\n",
       "    </tr>\n",
       "    <tr>\n",
       "      <th>95-105</th>\n",
       "      <td>89.910000</td>\n",
       "    </tr>\n",
       "    <tr>\n",
       "      <th rowspan=\"8\" valign=\"top\">M</th>\n",
       "      <th>25-35</th>\n",
       "      <td>366700.470168</td>\n",
       "    </tr>\n",
       "    <tr>\n",
       "      <th>35-45</th>\n",
       "      <td>355742.607864</td>\n",
       "    </tr>\n",
       "    <tr>\n",
       "      <th>45-55</th>\n",
       "      <td>187985.282130</td>\n",
       "    </tr>\n",
       "    <tr>\n",
       "      <th>55-65</th>\n",
       "      <td>81739.206384</td>\n",
       "    </tr>\n",
       "    <tr>\n",
       "      <th>65-75</th>\n",
       "      <td>34953.083280</td>\n",
       "    </tr>\n",
       "    <tr>\n",
       "      <th>75-85</th>\n",
       "      <td>9220.196640</td>\n",
       "    </tr>\n",
       "    <tr>\n",
       "      <th>85-95</th>\n",
       "      <td>1916.948880</td>\n",
       "    </tr>\n",
       "    <tr>\n",
       "      <th>95-105</th>\n",
       "      <td>189.357600</td>\n",
       "    </tr>\n",
       "  </tbody>\n",
       "</table>\n",
       "</div>"
      ],
      "text/plain": [
       "                      Total Profit\n",
       "Gender Age Interval               \n",
       "F      25-35          88611.169600\n",
       "       35-45          97433.290800\n",
       "       45-55          54646.948400\n",
       "       55-65          27455.658300\n",
       "       65-75           8476.647000\n",
       "       75-85           1946.370000\n",
       "       85-95            318.590000\n",
       "       95-105            89.910000\n",
       "M      25-35         366700.470168\n",
       "       35-45         355742.607864\n",
       "       45-55         187985.282130\n",
       "       55-65          81739.206384\n",
       "       65-75          34953.083280\n",
       "       75-85           9220.196640\n",
       "       85-95           1916.948880\n",
       "       95-105           189.357600"
      ]
     },
     "execution_count": 307,
     "metadata": {},
     "output_type": "execute_result"
    }
   ],
   "source": [
    "table_3 = pd.pivot_table(df_table, values='Total Profit', index=['Gender', 'Age Interval'], \n",
    "                         aggfunc=np.sum)\n",
    "table_3"
   ]
  },
  {
   "cell_type": "code",
   "execution_count": 310,
   "metadata": {},
   "outputs": [
    {
     "data": {
      "text/html": [
       "<div>\n",
       "<style scoped>\n",
       "    .dataframe tbody tr th:only-of-type {\n",
       "        vertical-align: middle;\n",
       "    }\n",
       "\n",
       "    .dataframe tbody tr th {\n",
       "        vertical-align: top;\n",
       "    }\n",
       "\n",
       "    .dataframe thead th {\n",
       "        text-align: right;\n",
       "    }\n",
       "</style>\n",
       "<table border=\"1\" class=\"dataframe\">\n",
       "  <thead>\n",
       "    <tr style=\"text-align: right;\">\n",
       "      <th></th>\n",
       "      <th>Total Profit</th>\n",
       "    </tr>\n",
       "    <tr>\n",
       "      <th>Age Interval</th>\n",
       "      <th></th>\n",
       "    </tr>\n",
       "  </thead>\n",
       "  <tbody>\n",
       "    <tr>\n",
       "      <th>35-45</th>\n",
       "      <td>97433.2908</td>\n",
       "    </tr>\n",
       "    <tr>\n",
       "      <th>25-35</th>\n",
       "      <td>88611.1696</td>\n",
       "    </tr>\n",
       "    <tr>\n",
       "      <th>45-55</th>\n",
       "      <td>54646.9484</td>\n",
       "    </tr>\n",
       "    <tr>\n",
       "      <th>55-65</th>\n",
       "      <td>27455.6583</td>\n",
       "    </tr>\n",
       "    <tr>\n",
       "      <th>65-75</th>\n",
       "      <td>8476.6470</td>\n",
       "    </tr>\n",
       "    <tr>\n",
       "      <th>75-85</th>\n",
       "      <td>1946.3700</td>\n",
       "    </tr>\n",
       "    <tr>\n",
       "      <th>85-95</th>\n",
       "      <td>318.5900</td>\n",
       "    </tr>\n",
       "    <tr>\n",
       "      <th>95-105</th>\n",
       "      <td>89.9100</td>\n",
       "    </tr>\n",
       "  </tbody>\n",
       "</table>\n",
       "</div>"
      ],
      "text/plain": [
       "              Total Profit\n",
       "Age Interval              \n",
       "35-45           97433.2908\n",
       "25-35           88611.1696\n",
       "45-55           54646.9484\n",
       "55-65           27455.6583\n",
       "65-75            8476.6470\n",
       "75-85            1946.3700\n",
       "85-95             318.5900\n",
       "95-105             89.9100"
      ]
     },
     "execution_count": 310,
     "metadata": {},
     "output_type": "execute_result"
    }
   ],
   "source": [
    "table_3.loc['F'].sort_values('Total Profit',ascending=False)"
   ]
  },
  {
   "cell_type": "markdown",
   "metadata": {},
   "source": [
    "The two most profitable age intervals in the Male category are the same as their female \n",
    "counterparts except in reverse order"
   ]
  },
  {
   "cell_type": "code",
   "execution_count": 313,
   "metadata": {},
   "outputs": [
    {
     "data": {
      "text/html": [
       "<div>\n",
       "<style scoped>\n",
       "    .dataframe tbody tr th:only-of-type {\n",
       "        vertical-align: middle;\n",
       "    }\n",
       "\n",
       "    .dataframe tbody tr th {\n",
       "        vertical-align: top;\n",
       "    }\n",
       "\n",
       "    .dataframe thead th {\n",
       "        text-align: right;\n",
       "    }\n",
       "</style>\n",
       "<table border=\"1\" class=\"dataframe\">\n",
       "  <thead>\n",
       "    <tr style=\"text-align: right;\">\n",
       "      <th></th>\n",
       "      <th>Total Profit</th>\n",
       "    </tr>\n",
       "    <tr>\n",
       "      <th>Age Interval</th>\n",
       "      <th></th>\n",
       "    </tr>\n",
       "  </thead>\n",
       "  <tbody>\n",
       "    <tr>\n",
       "      <th>25-35</th>\n",
       "      <td>366700.470168</td>\n",
       "    </tr>\n",
       "    <tr>\n",
       "      <th>35-45</th>\n",
       "      <td>355742.607864</td>\n",
       "    </tr>\n",
       "    <tr>\n",
       "      <th>45-55</th>\n",
       "      <td>187985.282130</td>\n",
       "    </tr>\n",
       "    <tr>\n",
       "      <th>55-65</th>\n",
       "      <td>81739.206384</td>\n",
       "    </tr>\n",
       "    <tr>\n",
       "      <th>65-75</th>\n",
       "      <td>34953.083280</td>\n",
       "    </tr>\n",
       "    <tr>\n",
       "      <th>75-85</th>\n",
       "      <td>9220.196640</td>\n",
       "    </tr>\n",
       "    <tr>\n",
       "      <th>85-95</th>\n",
       "      <td>1916.948880</td>\n",
       "    </tr>\n",
       "    <tr>\n",
       "      <th>95-105</th>\n",
       "      <td>189.357600</td>\n",
       "    </tr>\n",
       "  </tbody>\n",
       "</table>\n",
       "</div>"
      ],
      "text/plain": [
       "               Total Profit\n",
       "Age Interval               \n",
       "25-35         366700.470168\n",
       "35-45         355742.607864\n",
       "45-55         187985.282130\n",
       "55-65          81739.206384\n",
       "65-75          34953.083280\n",
       "75-85           9220.196640\n",
       "85-95           1916.948880\n",
       "95-105           189.357600"
      ]
     },
     "execution_count": 313,
     "metadata": {},
     "output_type": "execute_result"
    }
   ],
   "source": [
    "table_3.loc['M'].sort_values('Total Profit',ascending=False)"
   ]
  },
  {
   "cell_type": "markdown",
   "metadata": {},
   "source": [
    "Below I have broken down by Gender and Age Interval on the index and location on the columns.\n",
    "\n",
    "So we can see that nobody between the ages of 85 and 105 is spending any money in TM Lewin in Sligo"
   ]
  },
  {
   "cell_type": "code",
   "execution_count": 315,
   "metadata": {},
   "outputs": [
    {
     "data": {
      "text/plain": [
       "Gender  Age Interval\n",
       "F       25-35            250.736000\n",
       "        35-45            301.896600\n",
       "        45-55            139.761000\n",
       "        55-65             76.320000\n",
       "        65-75            160.600000\n",
       "        75-85             23.340000\n",
       "        85-95                   NaN\n",
       "        95-105                  NaN\n",
       "M       25-35           1842.059040\n",
       "        35-45           1477.246800\n",
       "        45-55           1067.133312\n",
       "        55-65            250.305600\n",
       "        65-75            344.049600\n",
       "        75-85             39.518400\n",
       "        85-95                   NaN\n",
       "        95-105                  NaN\n",
       "Name: Sligo, dtype: float64"
      ]
     },
     "execution_count": 315,
     "metadata": {},
     "output_type": "execute_result"
    }
   ],
   "source": [
    "table_4 = pd.pivot_table(df_table, values='Total Profit', index=['Gender', 'Age Interval'], \n",
    "                         columns=['Address City'], aggfunc=np.sum)\n",
    "table_4['Sligo']"
   ]
  },
  {
   "cell_type": "markdown",
   "metadata": {},
   "source": [
    "Lets check to see what Source of Customer (Advertising Type) is best for each age group\n",
    "\n",
    "See tableau chart 1.2 for visualization"
   ]
  },
  {
   "cell_type": "code",
   "execution_count": 317,
   "metadata": {},
   "outputs": [
    {
     "data": {
      "text/html": [
       "<div>\n",
       "<style scoped>\n",
       "    .dataframe tbody tr th:only-of-type {\n",
       "        vertical-align: middle;\n",
       "    }\n",
       "\n",
       "    .dataframe tbody tr th {\n",
       "        vertical-align: top;\n",
       "    }\n",
       "\n",
       "    .dataframe thead th {\n",
       "        text-align: right;\n",
       "    }\n",
       "</style>\n",
       "<table border=\"1\" class=\"dataframe\">\n",
       "  <thead>\n",
       "    <tr style=\"text-align: right;\">\n",
       "      <th></th>\n",
       "      <th></th>\n",
       "      <th>Total Profit</th>\n",
       "    </tr>\n",
       "    <tr>\n",
       "      <th>Age Interval</th>\n",
       "      <th>Source of Customer</th>\n",
       "      <th></th>\n",
       "    </tr>\n",
       "  </thead>\n",
       "  <tbody>\n",
       "    <tr>\n",
       "      <th rowspan=\"5\" valign=\"top\">25-35</th>\n",
       "      <th>Affiliates</th>\n",
       "      <td>44352.206948</td>\n",
       "    </tr>\n",
       "    <tr>\n",
       "      <th>Direct</th>\n",
       "      <td>181479.904440</td>\n",
       "    </tr>\n",
       "    <tr>\n",
       "      <th>Organic Search</th>\n",
       "      <td>147544.484560</td>\n",
       "    </tr>\n",
       "    <tr>\n",
       "      <th>Paid Search</th>\n",
       "      <td>95539.299040</td>\n",
       "    </tr>\n",
       "    <tr>\n",
       "      <th>Paid Social</th>\n",
       "      <td>32543.976480</td>\n",
       "    </tr>\n",
       "    <tr>\n",
       "      <th rowspan=\"5\" valign=\"top\">35-45</th>\n",
       "      <th>Affiliates</th>\n",
       "      <td>45537.676772</td>\n",
       "    </tr>\n",
       "    <tr>\n",
       "      <th>Direct</th>\n",
       "      <td>197188.485680</td>\n",
       "    </tr>\n",
       "    <tr>\n",
       "      <th>Organic Search</th>\n",
       "      <td>138752.108160</td>\n",
       "    </tr>\n",
       "    <tr>\n",
       "      <th>Paid Search</th>\n",
       "      <td>104353.314520</td>\n",
       "    </tr>\n",
       "    <tr>\n",
       "      <th>Paid Social</th>\n",
       "      <td>24976.158432</td>\n",
       "    </tr>\n",
       "    <tr>\n",
       "      <th rowspan=\"5\" valign=\"top\">45-55</th>\n",
       "      <th>Affiliates</th>\n",
       "      <td>28994.227780</td>\n",
       "    </tr>\n",
       "    <tr>\n",
       "      <th>Direct</th>\n",
       "      <td>96920.463000</td>\n",
       "    </tr>\n",
       "    <tr>\n",
       "      <th>Organic Search</th>\n",
       "      <td>70820.340130</td>\n",
       "    </tr>\n",
       "    <tr>\n",
       "      <th>Paid Search</th>\n",
       "      <td>62245.536720</td>\n",
       "    </tr>\n",
       "    <tr>\n",
       "      <th>Paid Social</th>\n",
       "      <td>15572.323200</td>\n",
       "    </tr>\n",
       "    <tr>\n",
       "      <th rowspan=\"5\" valign=\"top\">55-65</th>\n",
       "      <th>Affiliates</th>\n",
       "      <td>13569.529204</td>\n",
       "    </tr>\n",
       "    <tr>\n",
       "      <th>Direct</th>\n",
       "      <td>41388.126960</td>\n",
       "    </tr>\n",
       "    <tr>\n",
       "      <th>Organic Search</th>\n",
       "      <td>32201.378400</td>\n",
       "    </tr>\n",
       "    <tr>\n",
       "      <th>Paid Search</th>\n",
       "      <td>27451.796480</td>\n",
       "    </tr>\n",
       "    <tr>\n",
       "      <th>Paid Social</th>\n",
       "      <td>8604.875040</td>\n",
       "    </tr>\n",
       "    <tr>\n",
       "      <th rowspan=\"5\" valign=\"top\">65-75</th>\n",
       "      <th>Affiliates</th>\n",
       "      <td>4862.009320</td>\n",
       "    </tr>\n",
       "    <tr>\n",
       "      <th>Direct</th>\n",
       "      <td>14293.222000</td>\n",
       "    </tr>\n",
       "    <tr>\n",
       "      <th>Organic Search</th>\n",
       "      <td>13133.459600</td>\n",
       "    </tr>\n",
       "    <tr>\n",
       "      <th>Paid Search</th>\n",
       "      <td>12588.272800</td>\n",
       "    </tr>\n",
       "    <tr>\n",
       "      <th>Paid Social</th>\n",
       "      <td>2784.562560</td>\n",
       "    </tr>\n",
       "    <tr>\n",
       "      <th rowspan=\"5\" valign=\"top\">75-85</th>\n",
       "      <th>Affiliates</th>\n",
       "      <td>674.949520</td>\n",
       "    </tr>\n",
       "    <tr>\n",
       "      <th>Direct</th>\n",
       "      <td>2727.711200</td>\n",
       "    </tr>\n",
       "    <tr>\n",
       "      <th>Organic Search</th>\n",
       "      <td>4678.455200</td>\n",
       "    </tr>\n",
       "    <tr>\n",
       "      <th>Paid Search</th>\n",
       "      <td>2843.557200</td>\n",
       "    </tr>\n",
       "    <tr>\n",
       "      <th>Paid Social</th>\n",
       "      <td>699.323520</td>\n",
       "    </tr>\n",
       "    <tr>\n",
       "      <th rowspan=\"5\" valign=\"top\">85-95</th>\n",
       "      <th>Affiliates</th>\n",
       "      <td>265.670720</td>\n",
       "    </tr>\n",
       "    <tr>\n",
       "      <th>Direct</th>\n",
       "      <td>628.086400</td>\n",
       "    </tr>\n",
       "    <tr>\n",
       "      <th>Organic Search</th>\n",
       "      <td>150.768000</td>\n",
       "    </tr>\n",
       "    <tr>\n",
       "      <th>Paid Search</th>\n",
       "      <td>857.418800</td>\n",
       "    </tr>\n",
       "    <tr>\n",
       "      <th>Paid Social</th>\n",
       "      <td>509.616960</td>\n",
       "    </tr>\n",
       "    <tr>\n",
       "      <th rowspan=\"5\" valign=\"top\">95-105</th>\n",
       "      <th>Affiliates</th>\n",
       "      <td>54.082000</td>\n",
       "    </tr>\n",
       "    <tr>\n",
       "      <th>Direct</th>\n",
       "      <td>NaN</td>\n",
       "    </tr>\n",
       "    <tr>\n",
       "      <th>Organic Search</th>\n",
       "      <td>217.065600</td>\n",
       "    </tr>\n",
       "    <tr>\n",
       "      <th>Paid Search</th>\n",
       "      <td>61.760000</td>\n",
       "    </tr>\n",
       "    <tr>\n",
       "      <th>Paid Social</th>\n",
       "      <td>NaN</td>\n",
       "    </tr>\n",
       "  </tbody>\n",
       "</table>\n",
       "</div>"
      ],
      "text/plain": [
       "                                  Total Profit\n",
       "Age Interval Source of Customer               \n",
       "25-35        Affiliates           44352.206948\n",
       "             Direct              181479.904440\n",
       "             Organic Search      147544.484560\n",
       "             Paid Search          95539.299040\n",
       "             Paid Social          32543.976480\n",
       "35-45        Affiliates           45537.676772\n",
       "             Direct              197188.485680\n",
       "             Organic Search      138752.108160\n",
       "             Paid Search         104353.314520\n",
       "             Paid Social          24976.158432\n",
       "45-55        Affiliates           28994.227780\n",
       "             Direct               96920.463000\n",
       "             Organic Search       70820.340130\n",
       "             Paid Search          62245.536720\n",
       "             Paid Social          15572.323200\n",
       "55-65        Affiliates           13569.529204\n",
       "             Direct               41388.126960\n",
       "             Organic Search       32201.378400\n",
       "             Paid Search          27451.796480\n",
       "             Paid Social           8604.875040\n",
       "65-75        Affiliates            4862.009320\n",
       "             Direct               14293.222000\n",
       "             Organic Search       13133.459600\n",
       "             Paid Search          12588.272800\n",
       "             Paid Social           2784.562560\n",
       "75-85        Affiliates             674.949520\n",
       "             Direct                2727.711200\n",
       "             Organic Search        4678.455200\n",
       "             Paid Search           2843.557200\n",
       "             Paid Social            699.323520\n",
       "85-95        Affiliates             265.670720\n",
       "             Direct                 628.086400\n",
       "             Organic Search         150.768000\n",
       "             Paid Search            857.418800\n",
       "             Paid Social            509.616960\n",
       "95-105       Affiliates              54.082000\n",
       "             Direct                        NaN\n",
       "             Organic Search         217.065600\n",
       "             Paid Search             61.760000\n",
       "             Paid Social                   NaN"
      ]
     },
     "execution_count": 317,
     "metadata": {},
     "output_type": "execute_result"
    }
   ],
   "source": [
    "table_5 = pd.pivot_table(df_table, values='Total Profit', index=['Age Interval', 'Source of Customer'], \n",
    "                         aggfunc=np.sum)\n",
    "table_5"
   ]
  },
  {
   "cell_type": "markdown",
   "metadata": {},
   "source": [
    "Out of all the customers who visit the site how many make a purchase?\n",
    "\n",
    "The answer is 97%. A very high conversion rate"
   ]
  },
  {
   "cell_type": "code",
   "execution_count": 357,
   "metadata": {},
   "outputs": [
    {
     "data": {
      "text/plain": [
       "97.29652364746669"
      ]
     },
     "execution_count": 357,
     "metadata": {},
     "output_type": "execute_result"
    }
   ],
   "source": [
    "#purchasing customers represents all customers who made at least one purchase\n",
    "purchasing_customers = df_table['1st Order Profit'].count().sum()\n",
    "all_customers = df_demo['Customer ID'].count().sum()\n",
    "(purchasing_customers/all_customers)*100"
   ]
  },
  {
   "cell_type": "markdown",
   "metadata": {},
   "source": [
    "Not all customers who made an initial order went on to make a subsequent order\n",
    "\n",
    "In fact only 65% of customers went on to make a second purchase"
   ]
  },
  {
   "cell_type": "code",
   "execution_count": 349,
   "metadata": {},
   "outputs": [
    {
     "data": {
      "text/plain": [
       "30591"
      ]
     },
     "execution_count": 349,
     "metadata": {},
     "output_type": "execute_result"
    }
   ],
   "source": [
    "purchasing_customers"
   ]
  },
  {
   "cell_type": "code",
   "execution_count": 362,
   "metadata": {},
   "outputs": [
    {
     "data": {
      "text/plain": [
       "19850"
      ]
     },
     "execution_count": 362,
     "metadata": {},
     "output_type": "execute_result"
    }
   ],
   "source": [
    "recurring_customers = df_table[df_table['Subsequent Orders Count']>0]['Subsequent Orders Count'].count()\n",
    "recurring_customers"
   ]
  },
  {
   "cell_type": "code",
   "execution_count": 370,
   "metadata": {},
   "outputs": [
    {
     "data": {
      "text/plain": [
       "64.89"
      ]
     },
     "execution_count": 370,
     "metadata": {},
     "output_type": "execute_result"
    }
   ],
   "source": [
    "round(recurring_customers/purchasing_customers*100,2)"
   ]
  },
  {
   "cell_type": "markdown",
   "metadata": {},
   "source": [
    "Next, check the average subsequent order profit"
   ]
  },
  {
   "cell_type": "code",
   "execution_count": 398,
   "metadata": {},
   "outputs": [
    {
     "data": {
      "text/plain": [
       "Customer ID\n",
       "1     5.30772\n",
       "2    10.02240\n",
       "3     7.25760\n",
       "5     7.58016\n",
       "6    11.37024\n",
       "dtype: float64"
      ]
     },
     "execution_count": 398,
     "metadata": {},
     "output_type": "execute_result"
    }
   ],
   "source": [
    "num_subsequent_orders = df_table[df_table['Subsequent Orders Count']>0]['Subsequent Orders Count']\n",
    "subsequent_orders_total_profit = df_table[df_table['Subsequent Orders Count']>0]['Subsequent Order Profit']\n",
    "subsequent_orders_avg_profit = subsequent_orders_total_profit/num_subsequent_orders\n",
    "subsequent_orders_avg_profit.head()"
   ]
  },
  {
   "cell_type": "markdown",
   "metadata": {},
   "source": [
    "Below is the distribution of average profit of subsequent orders"
   ]
  },
  {
   "cell_type": "code",
   "execution_count": 405,
   "metadata": {},
   "outputs": [
    {
     "data": {
      "text/plain": [
       "<matplotlib.axes._subplots.AxesSubplot at 0x27611ee1390>"
      ]
     },
     "execution_count": 405,
     "metadata": {},
     "output_type": "execute_result"
    },
    {
     "data": {
      "image/png": "[encoded data removed]",
      "text/plain": [
       "<matplotlib.figure.Figure at 0x27611eed7f0>"
      ]
     },
     "metadata": {},
     "output_type": "display_data"
    }
   ],
   "source": [
    "subsequent_orders_avg_profit.plot(kind='hist', bins=50)"
   ]
  },
  {
   "cell_type": "markdown",
   "metadata": {},
   "source": [
    "Brief Summary"
   ]
  },
  {
   "cell_type": "markdown",
   "metadata": {},
   "source": [
    "Free customer sources are more effective for getting customers to the TM Lewin webpage than paid sources.\n",
    "The free sources of customer also provide the most profitable group of customers.\n",
    "See tableau chart 1.2 which confirms direct source of customers is the most effective in almost every age group.\n",
    "\n",
    "Males offer higher profit-making potential than females.\n",
    "The 35-45 age group is the most profitable age group countrywide followed closely by the 25-35 age group.\n",
    "Within the Male category the 25-35 age group is the most profitable and the 35-45 age group is the most profitable female age profile.\n",
    "\n",
    "Dublin is the most profitable location in the country.\n",
    "\n",
    "Page search offers 1.6 euro in profits for every euro spent on marketing costs whilst affiliates offers 0.7 euros in profits per euro of marketing costs.\n",
    "\n",
    "97% of customers who visit the website make a purchase and 65% of the customers who made an initial purchase went on to make at least one subsequent purchase.\n"
   ]
  },
  {
   "cell_type": "code",
   "execution_count": null,
   "metadata": {},
   "outputs": [],
   "source": []
  },
  {
   "cell_type": "markdown",
   "metadata": {},
   "source": [
    "The below exports are for the purpose of creating the tableau visualizations"
   ]
  },
  {
   "cell_type": "code",
   "execution_count": 320,
   "metadata": {},
   "outputs": [],
   "source": [
    "df_table.to_excel('df_table.xlsx')\n",
    "df_source_of_cust.to_excel('df_source_of_cust.xlsx')\n",
    "table_5.to_excel('table_5.xlsx')\n",
    "subsequent_orders_avg_profit.to_excel('subsequent_orders_avg_profit.xlsx')"
   ]
  }
 ],
 "metadata": {
  "kernelspec": {
   "display_name": "Python 3",
   "language": "python",
   "name": "python3"
  },
  "language_info": {
   "codemirror_mode": {
    "name": "ipython",
    "version": 3
   },
   "file_extension": ".py",
   "mimetype": "text/x-python",
   "name": "python",
   "nbconvert_exporter": "python",
   "pygments_lexer": "ipython3",
   "version": "3.6.4"
  }
 },
 "nbformat": 4,
 "nbformat_minor": 2
}
